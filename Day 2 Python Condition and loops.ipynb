{
 "cells": [
  {
   "cell_type": "code",
   "execution_count": 1,
   "id": "6fe1b008-7bc9-4128-8b3a-72fa7312b123",
   "metadata": {},
   "outputs": [
    {
     "data": {
      "text/plain": [
       "123"
      ]
     },
     "execution_count": 1,
     "metadata": {},
     "output_type": "execute_result"
    }
   ],
   "source": [
    "int('123')"
   ]
  },
  {
   "cell_type": "code",
   "execution_count": 2,
   "id": "807ec422-97af-4cf6-9473-4aa789154104",
   "metadata": {},
   "outputs": [
    {
     "name": "stdout",
     "output_type": "stream",
     "text": [
      "Hello World\n"
     ]
    }
   ],
   "source": [
    "print(\"Hello World\")"
   ]
  },
  {
   "cell_type": "code",
   "execution_count": 3,
   "id": "7ca2bd20-858f-42e7-831b-b42e7373d1f3",
   "metadata": {},
   "outputs": [
    {
     "name": "stdout",
     "output_type": "stream",
     "text": [
      "Hello world\n"
     ]
    },
    {
     "data": {
      "text/plain": [
       "NoneType"
      ]
     },
     "execution_count": 3,
     "metadata": {},
     "output_type": "execute_result"
    }
   ],
   "source": [
    "type(print(\"Hello world\"))"
   ]
  },
  {
   "cell_type": "code",
   "execution_count": 6,
   "id": "b2ed9350-3cd7-48e6-b700-06ca12210456",
   "metadata": {},
   "outputs": [
    {
     "name": "stdout",
     "output_type": "stream",
     "text": [
      "123\n"
     ]
    }
   ],
   "source": [
    "print(123)"
   ]
  },
  {
   "cell_type": "code",
   "execution_count": null,
   "id": "5d535fb5-f81e-4b6b-a499-4ccaddb60c59",
   "metadata": {},
   "outputs": [],
   "source": []
  },
  {
   "cell_type": "code",
   "execution_count": 19,
   "id": "1d7d1368-da48-4164-9c70-be7296868d97",
   "metadata": {},
   "outputs": [
    {
     "name": "stdout",
     "output_type": "stream",
     "text": [
      "My age is: 19\n"
     ]
    }
   ],
   "source": [
    "age=19\n",
    "print(\"My age is:\",age)"
   ]
  },
  {
   "cell_type": "code",
   "execution_count": null,
   "id": "8b58efe2-4bcd-4c71-be41-271e811a57b5",
   "metadata": {},
   "outputs": [],
   "source": []
  },
  {
   "cell_type": "code",
   "execution_count": 14,
   "id": "059faa81-3f43-4b39-a776-0c6b69a75e0b",
   "metadata": {},
   "outputs": [
    {
     "name": "stdout",
     "output_type": "stream",
     "text": [
      "My age is: 19\n"
     ]
    }
   ],
   "source": [
    "###  f string\n",
    "print(f\"My age is {age}\")"
   ]
  },
  {
   "cell_type": "code",
   "execution_count": 23,
   "id": "42251649-2bca-4771-9a4a-e9f4e8928618",
   "metadata": {},
   "outputs": [
    {
     "name": "stdout",
     "output_type": "stream",
     "text": [
      "My name is Aniket and age is 19\n"
     ]
    }
   ],
   "source": [
    "## format()\n",
    "name=\"Aniket\"\n",
    "age=19\n",
    "print(\"My name is {} and age is {}\".format(name,age))"
   ]
  },
  {
   "cell_type": "code",
   "execution_count": 24,
   "id": "9c10092e-7b8d-47f1-82c0-9578598a7b66",
   "metadata": {},
   "outputs": [
    {
     "name": "stdout",
     "output_type": "stream",
     "text": [
      "My name is 19 and age is Aniket\n"
     ]
    }
   ],
   "source": [
    "print(\"My name is {} and age is {}\". format(age,name))"
   ]
  },
  {
   "cell_type": "code",
   "execution_count": 26,
   "id": "4a47b86b-4cd5-43d9-91a4-c6a1261bd505",
   "metadata": {},
   "outputs": [
    {
     "name": "stdout",
     "output_type": "stream",
     "text": [
      "My name is Aniket and age is 19\n"
     ]
    }
   ],
   "source": [
    "print(\"My name is {firstname} and age is {firstage}\". format(firstname=name,firstage=age))"
   ]
  },
  {
   "cell_type": "code",
   "execution_count": 39,
   "id": "836f2c79-e9be-4c3f-bf65-be36af60b7e5",
   "metadata": {},
   "outputs": [
    {
     "name": "stdout",
     "output_type": "stream",
     "text": [
      "My age is 19 and i have completed: my degree of Btech with the name of Aniket Manvate\n"
     ]
    }
   ],
   "source": [
    "name=\"Aniket Manvate\"\n",
    "age=19\n",
    "degree=\"Btech\"\n",
    "print(\"My age is {} and i have completed: my degree of {} with the name of {}\". format(age,degree,name))"
   ]
  },
  {
   "cell_type": "code",
   "execution_count": null,
   "id": "387c514a-0643-41c0-8341-4d5818290393",
   "metadata": {},
   "outputs": [],
   "source": []
  },
  {
   "cell_type": "code",
   "execution_count": 35,
   "id": "c97e9229-c81e-436b-af26-973bce1e4c0d",
   "metadata": {},
   "outputs": [
    {
     "name": "stdout",
     "output_type": "stream",
     "text": [
      "My age is 19 and i have completed: my degree of Btech with the name of Aniket Manvate\n"
     ]
    }
   ],
   "source": [
    "name=\"Aniket Manvate\"\n",
    "age=19\n",
    "degree=\"Btech\"\n",
    "print(f\"My age is {age} and i have completed: my degree of {degree} with the name of {name}\". format(name,age,degree))"
   ]
  },
  {
   "cell_type": "code",
   "execution_count": 40,
   "id": "35eba730-0257-47f7-a1d4-4a94266a69b8",
   "metadata": {},
   "outputs": [
    {
     "name": "stdout",
     "output_type": "stream",
     "text": [
      "You are eligible to vote\n"
     ]
    }
   ],
   "source": [
    "## if statements\n",
    "age=18\n",
    "if age>=18:\n",
    "    print(\"You are eligible to vote\")"
   ]
  },
  {
   "cell_type": "code",
   "execution_count": null,
   "id": "526380f2-d426-4ddf-a13a-614ecbdc267e",
   "metadata": {},
   "outputs": [
    {
     "data": {
      "text/plain": [
       "True"
      ]
     },
     "execution_count": 53,
     "metadata": {},
     "output_type": "execute_result"
    }
   ],
   "source": [
    "18>=18"
   ]
  },
  {
   "cell_type": "code",
   "execution_count": 55,
   "id": "20a3c9e7-cb82-4d96-bc61-28652a48a1f0",
   "metadata": {},
   "outputs": [
    {
     "name": "stdout",
     "output_type": "stream",
     "text": [
      "You are not eligible to vote\n"
     ]
    }
   ],
   "source": [
    "age=17\n",
    "if age<18:\n",
    "    print(\"You are not eligible to vote\")"
   ]
  },
  {
   "cell_type": "code",
   "execution_count": 57,
   "id": "5366ad37-a0f6-46d5-865f-08107a228220",
   "metadata": {},
   "outputs": [
    {
     "name": "stdin",
     "output_type": "stream",
     "text": [
      " Aniket Manvate\n"
     ]
    },
    {
     "data": {
      "text/plain": [
       "'Aniket Manvate'"
      ]
     },
     "execution_count": 57,
     "metadata": {},
     "output_type": "execute_result"
    }
   ],
   "source": [
    "input()"
   ]
  },
  {
   "cell_type": "code",
   "execution_count": 66,
   "id": "3307039a-ef3a-4ac9-a9d8-e1c28e90cda8",
   "metadata": {},
   "outputs": [
    {
     "name": "stdin",
     "output_type": "stream",
     "text": [
      "Enter the age 20\n"
     ]
    },
    {
     "name": "stdout",
     "output_type": "stream",
     "text": [
      "You are a young blood\n"
     ]
    }
   ],
   "source": [
    "age=int(input(\"Enter the age\"))\n",
    "if age>=18 and age<=45:\n",
    "    print(\"You are a young blood\")"
   ]
  },
  {
   "cell_type": "code",
   "execution_count": 67,
   "id": "2e099eba-ee5f-4f1a-afc0-f7b6bc9406c9",
   "metadata": {},
   "outputs": [
    {
     "name": "stdin",
     "output_type": "stream",
     "text": [
      "Enter the age 56\n"
     ]
    },
    {
     "name": "stdout",
     "output_type": "stream",
     "text": [
      "Thank you we will let you know\n"
     ]
    }
   ],
   "source": [
    "age=int(input(\"Enter the age\"))\n",
    "if age>=18 and age<=45:\n",
    "    print(\"You are a young blood\")\n",
    "else:\n",
    "    print(\"Thank you we will let you know\")"
   ]
  },
  {
   "cell_type": "code",
   "execution_count": 76,
   "id": "3294c124-f4cd-4839-b54c-6c8ea52ed87e",
   "metadata": {},
   "outputs": [
    {
     "name": "stdin",
     "output_type": "stream",
     "text": [
      "Enter the price 950\n"
     ]
    },
    {
     "name": "stdout",
     "output_type": "stream",
     "text": [
      "The price of the product is 665.0\n"
     ]
    }
   ],
   "source": [
    "product_price=int(input(\"Enter the price\"))\n",
    "if product_price>1000:\n",
    "    print(\"The price of the product is {}\". format(product_price*0.8))\n",
    "else:\n",
    "    print(\"The price of the product is {}\". format(product_price*0.7))\n",
    "    "
   ]
  },
  {
   "cell_type": "code",
   "execution_count": 74,
   "id": "627739fe-0096-4ef3-af9f-0d6b1db66d7b",
   "metadata": {},
   "outputs": [
    {
     "data": {
      "text/plain": [
       "900.0"
      ]
     },
     "execution_count": 74,
     "metadata": {},
     "output_type": "execute_result"
    }
   ],
   "source": [
    "(20/100)*4500"
   ]
  },
  {
   "cell_type": "code",
   "execution_count": null,
   "id": "1a4afbb2-43f4-4f67-a9d7-f1ce7cfbdd72",
   "metadata": {},
   "outputs": [],
   "source": []
  },
  {
   "cell_type": "code",
   "execution_count": 79,
   "id": "a8ac8bc7-c02e-4d2f-a4b9-23a91dffa9f7",
   "metadata": {},
   "outputs": [
    {
     "name": "stdin",
     "output_type": "stream",
     "text": [
      "Enter the price 1200\n"
     ]
    },
    {
     "name": "stdout",
     "output_type": "stream",
     "text": [
      "The price of the product is 960.0\n"
     ]
    }
   ],
   "source": [
    "product_price=int(input(\"Enter the price\"))\n",
    "if product_price>1000:\n",
    "    print(f\"The price of the product is {product_price*0.8}\")\n",
    "else:\n",
    "    print(\"The price of the product is {}\". format(product_price*0.7))\n",
    "    "
   ]
  },
  {
   "cell_type": "code",
   "execution_count": 10,
   "id": "747600a0-674c-43e1-a2ba-d2a16c6ed05d",
   "metadata": {},
   "outputs": [
    {
     "name": "stdin",
     "output_type": "stream",
     "text": [
      "Enter the price 4000\n"
     ]
    },
    {
     "name": "stdout",
     "output_type": "stream",
     "text": [
      "Congratulations you got a Goa Trip\n",
      "The price of the product is 3200.0\n"
     ]
    }
   ],
   "source": [
    "product_price=int(input(\"Enter the price\"))\n",
    "if product_price>3000:\n",
    "    if product_price==4000:\n",
    "        print(\"Congratulations you got a Goa Trip\")\n",
    "    print(\"The price of the product is {}\". format(product_price*0.8))\n",
    "elif product_price>=2000 and product_price<=3000:\n",
    "    if product_price==2999:\n",
    "        print(\"Congratulations you get an additional Gift\")\n",
    "    print(\"The price of the product is {}\". format(product_price*0.7))\n",
    "else:\n",
    "    print(\"The price of the product is {}\". format(product_price*0.6))"
   ]
  },
  {
   "cell_type": "code",
   "execution_count": 14,
   "id": "6a257205-d5b8-4c96-9fc2-b8692f3e4482",
   "metadata": {},
   "outputs": [
    {
     "name": "stdout",
     "output_type": "stream",
     "text": [
      "25\n",
      "26\n",
      "27\n",
      "28\n",
      "29\n",
      "30\n",
      "31\n",
      "32\n",
      "33\n",
      "34\n",
      "35\n",
      "36\n",
      "37\n",
      "38\n",
      "39\n",
      "40\n",
      "41\n",
      "42\n",
      "43\n",
      "44\n",
      "45\n",
      "46\n",
      "47\n",
      "48\n",
      "49\n",
      "50\n",
      "51\n",
      "52\n",
      "53\n",
      "54\n",
      "55\n",
      "56\n",
      "57\n",
      "58\n",
      "59\n",
      "60\n",
      "It's time for retirement\n"
     ]
    }
   ],
   "source": [
    "## while loops while-else\n",
    "\n",
    "joining_age=25\n",
    "while joining_age<=60:\n",
    "    print(joining_age)\n",
    "    joining_age=joining_age+1\n",
    "else:\n",
    "    print(\"It's time for retirement\")"
   ]
  },
  {
   "cell_type": "code",
   "execution_count": 16,
   "id": "248c1f3c-8b96-4b5b-935a-976865cb1d20",
   "metadata": {},
   "outputs": [
    {
     "name": "stdout",
     "output_type": "stream",
     "text": [
      "1000\n",
      "900\n",
      "800\n",
      "700\n",
      "600\n",
      "500\n",
      "400\n",
      "300\n",
      "200\n",
      "100\n",
      "Put more money bank people\n"
     ]
    }
   ],
   "source": [
    "### Atm machine with 1000rs\n",
    "\n",
    "total_amount=1000\n",
    "while total_amount!=0:\n",
    "    print(total_amount)\n",
    "    total_amount=total_amount-100\n",
    "else:\n",
    "    print(\"Put more money bank people\")"
   ]
  },
  {
   "cell_type": "code",
   "execution_count": 17,
   "id": "6f78beca-e9e7-4367-a933-8d248cba8087",
   "metadata": {},
   "outputs": [],
   "source": [
    "### for loop\n",
    "\n",
    "lst=[\"Aniket\",1,2,3,4,\"Pineapple\",\"Grapes\"]"
   ]
  },
  {
   "cell_type": "code",
   "execution_count": 18,
   "id": "f7895592-7763-4f10-8937-a7d594740cb3",
   "metadata": {},
   "outputs": [
    {
     "data": {
      "text/plain": [
       "'Aniket'"
      ]
     },
     "execution_count": 18,
     "metadata": {},
     "output_type": "execute_result"
    }
   ],
   "source": [
    "lst[0]"
   ]
  },
  {
   "cell_type": "code",
   "execution_count": 19,
   "id": "9e542d3b-1275-42c4-acbc-c28018471300",
   "metadata": {},
   "outputs": [
    {
     "data": {
      "text/plain": [
       "'Pineapple'"
      ]
     },
     "execution_count": 19,
     "metadata": {},
     "output_type": "execute_result"
    }
   ],
   "source": [
    "lst[5]"
   ]
  },
  {
   "cell_type": "code",
   "execution_count": 20,
   "id": "60591607-138a-43ba-b3d9-bf06012e9f28",
   "metadata": {},
   "outputs": [
    {
     "data": {
      "text/plain": [
       "'Grapes'"
      ]
     },
     "execution_count": 20,
     "metadata": {},
     "output_type": "execute_result"
    }
   ],
   "source": [
    "lst[6]"
   ]
  },
  {
   "cell_type": "code",
   "execution_count": 21,
   "id": "a379ea72-faef-4099-b345-8078be35231e",
   "metadata": {},
   "outputs": [
    {
     "data": {
      "text/plain": [
       "['Aniket', 1, 2, 3, 4, 'Pineapple', 'Grapes']"
      ]
     },
     "execution_count": 21,
     "metadata": {},
     "output_type": "execute_result"
    }
   ],
   "source": [
    "lst"
   ]
  },
  {
   "cell_type": "code",
   "execution_count": 22,
   "id": "00b1fc84-5551-445c-ac40-24ed0e0b69b0",
   "metadata": {},
   "outputs": [
    {
     "name": "stdout",
     "output_type": "stream",
     "text": [
      "Aniket\n",
      "1\n",
      "2\n",
      "3\n",
      "4\n",
      "Pineapple\n",
      "Grapes\n"
     ]
    }
   ],
   "source": [
    "for R in lst:\n",
    "    print(R)"
   ]
  },
  {
   "cell_type": "code",
   "execution_count": 25,
   "id": "913afc43-e10d-4015-a696-f399699151e1",
   "metadata": {},
   "outputs": [],
   "source": [
    "Player_list =[\"Virat Kohli\",\"AB De Villiers\",\"KL Rahul\",\"Suryakumar Yadav\",\"Rishabh Pant\"]"
   ]
  },
  {
   "cell_type": "code",
   "execution_count": 28,
   "id": "7d570206-e6ed-4d10-9d1b-3e4149b72326",
   "metadata": {},
   "outputs": [
    {
     "name": "stdout",
     "output_type": "stream",
     "text": [
      "Virat Kohli\n",
      "AB De Villiers\n",
      "KL Rahul\n",
      "Suryakumar Yadav\n",
      "Rishabh Pant\n"
     ]
    }
   ],
   "source": [
    "for R in Player_list:\n",
    "    print(R)"
   ]
  },
  {
   "cell_type": "code",
   "execution_count": 29,
   "id": "1a51b736-347c-42d0-8869-247a2d213fdb",
   "metadata": {},
   "outputs": [
    {
     "name": "stdout",
     "output_type": "stream",
     "text": [
      "Virat Kohli\n",
      "AB De Villiers\n",
      "The player is a AB De Villiers\n",
      "KL Rahul\n",
      "Suryakumar Yadav\n",
      "Rishabh Pant\n"
     ]
    }
   ],
   "source": [
    "for R in Player_list:\n",
    "    print(R)\n",
    "    if R==\"AB De Villiers\":\n",
    "        print(\"The player is a AB De Villiers\")"
   ]
  },
  {
   "cell_type": "code",
   "execution_count": 30,
   "id": "a8644c83-9c80-4b4c-8374-b44bcb553536",
   "metadata": {},
   "outputs": [
    {
     "name": "stdout",
     "output_type": "stream",
     "text": [
      "m\n",
      "a\n",
      "n\n",
      "g\n",
      "o\n"
     ]
    }
   ],
   "source": [
    "fruit='mango'\n",
    "for R in fruit:\n",
    "    print(R)"
   ]
  },
  {
   "cell_type": "code",
   "execution_count": null,
   "id": "5f530b02-15de-4c45-aa87-51b7d4e3b899",
   "metadata": {},
   "outputs": [],
   "source": []
  },
  {
   "cell_type": "code",
   "execution_count": null,
   "id": "070f32bc-9b25-4b26-8783-2dfb34f213d1",
   "metadata": {},
   "outputs": [],
   "source": []
  },
  {
   "cell_type": "code",
   "execution_count": 34,
   "id": "bada6392-891f-46e4-a97f-79a1f386731a",
   "metadata": {},
   "outputs": [
    {
     "name": "stdout",
     "output_type": "stream",
     "text": [
      "*\n",
      "**\n",
      "***\n",
      "****\n",
      "*****\n",
      "******\n",
      "*******\n"
     ]
    }
   ],
   "source": [
    "### nested loops \n",
    "\n",
    "n=7\n",
    "\n",
    "for i in range(0,n):\n",
    "    for j in range(0,i+1):\n",
    "        print(\"*\",end=\"\")\n",
    "    print(\"\\r\")"
   ]
  },
  {
   "cell_type": "code",
   "execution_count": null,
   "id": "6f61c0fd-068f-4fc9-a096-b146f14b061b",
   "metadata": {},
   "outputs": [],
   "source": [
    "### nested loops\n",
    "## break and continue\n",
    "\n",
    "Player_list=[\"Virat Kohli\",\"AB De Velliers\",\"KL Rahul\",\"Suryakumar Yadav\",\"Rishabh Pant\"]"
   ]
  },
  {
   "cell_type": "code",
   "execution_count": 37,
   "id": "c5901d7e-9e67-4107-9469-b4ae8d56b992",
   "metadata": {},
   "outputs": [
    {
     "name": "stdout",
     "output_type": "stream",
     "text": [
      "Virat Kohli\n",
      "AB De Villiers\n",
      "The player is KL Rahul\n"
     ]
    }
   ],
   "source": [
    "for i in Player_list:\n",
    "    if i==\"KL Rahul\":\n",
    "        print(\"The player is KL Rahul\")\n",
    "        break\n",
    "    print(i)"
   ]
  },
  {
   "cell_type": "code",
   "execution_count": 38,
   "id": "848d3c78-2c30-4ce6-b59f-7e71f1b89e04",
   "metadata": {},
   "outputs": [
    {
     "name": "stdout",
     "output_type": "stream",
     "text": [
      "Virat Kohli\n",
      "AB De Villiers\n",
      "The player is KL Rahul\n",
      "KL Rahul\n",
      "Suryakumar Yadav\n",
      "Rishabh Pant\n"
     ]
    }
   ],
   "source": [
    "for i in Player_list:\n",
    "    if i==\"KL Rahul\":\n",
    "        print(\"The player is KL Rahul\")\n",
    "        pass\n",
    "    print(i)"
   ]
  },
  {
   "cell_type": "code",
   "execution_count": 40,
   "id": "7713974f-5d48-40f7-872f-63b2aac8b437",
   "metadata": {},
   "outputs": [
    {
     "name": "stdout",
     "output_type": "stream",
     "text": [
      "Virat Kohli\n",
      "AB De Villiers\n",
      "The player is KL Rahul\n",
      "Suryakumar Yadav\n",
      "Rishabh Pant\n"
     ]
    }
   ],
   "source": [
    "## continue\n",
    "for i in Player_list:\n",
    "    if i==\"KL Rahul\":\n",
    "        print(\"The player is KL Rahul\")\n",
    "        continue\n",
    "    print(i)"
   ]
  },
  {
   "cell_type": "code",
   "execution_count": null,
   "id": "6bb71a9e-1b46-4816-a76e-2c78c4c80288",
   "metadata": {},
   "outputs": [],
   "source": []
  }
 ],
 "metadata": {
  "kernelspec": {
   "display_name": "Python 3 (ipykernel)",
   "language": "python",
   "name": "python3"
  },
  "language_info": {
   "codemirror_mode": {
    "name": "ipython",
    "version": 3
   },
   "file_extension": ".py",
   "mimetype": "text/x-python",
   "name": "python",
   "nbconvert_exporter": "python",
   "pygments_lexer": "ipython3",
   "version": "3.10.8"
  }
 },
 "nbformat": 4,
 "nbformat_minor": 5
}
